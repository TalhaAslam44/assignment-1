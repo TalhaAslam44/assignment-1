{
 "cells": [
  {
   "cell_type": "code",
   "execution_count": 1,
   "id": "f1b7f483",
   "metadata": {},
   "outputs": [
    {
     "name": "stdout",
     "output_type": "stream",
     "text": [
      "first guess: 2\n",
      "second guess: 3\n",
      "tolerance: 0.10\n",
      "iteration 1, x2 = 2.500000 and f(x2)= -5.875000\n",
      "iteration 2, x2 = 2.750000 and f(x2)= -1.953125\n",
      "iteration 3, x2 = 2.875000 and f(x2)= 0.388672\n",
      "iteration 4, x2 = 2.812500 and f(x2)= -0.815186\n",
      "iteration 5, x2 = 2.843750 and f(x2)= -0.221588\n",
      "iteration 6, x2 = 2.859375 and f(x2)= 0.081448\n",
      "root is :2.85937500 \n"
     ]
    }
   ],
   "source": [
    "from math import sin\n",
    "def bisection(x0,x1,e): \n",
    "    step = 1\n",
    "    condition = True\n",
    "    while condition:\n",
    "        x2 = (x0+x1)/2\n",
    "        print('iteration %d, x2 = %0.6f and f(x2)= %0.6f' %(step,x2,f(x2)))\n",
    "        \n",
    "        if f(x0) * f(x2) < 0:\n",
    "            x1 = x2\n",
    "        else:\n",
    "            x0 = x2\n",
    "        step = step +1\n",
    "        condition = abs(f(x2)) > e\n",
    "    print('root is :%0.8f '%x2)\n",
    "#    return x2\n",
    "\n",
    "def f(x):\n",
    "    return x**3-5*x-9\n",
    "\n",
    "x0 = float(input('first guess: '))\n",
    "x1 = float(input('second guess: '))\n",
    "e  = float(input('tolerance: '))\n",
    "\n",
    "if f(x0) * f(x1) > 0.0:\n",
    "    print('given guess values do not bracket the root')\n",
    "else:\n",
    "    root = bisection(x0,x1,e)"
   ]
  },
  {
   "cell_type": "code",
   "execution_count": 2,
   "id": "52c036f8",
   "metadata": {},
   "outputs": [
    {
     "name": "stdout",
     "output_type": "stream",
     "text": [
      "the root is 2.855 at 5 iterations.\n"
     ]
    }
   ],
   "source": [
    "from math import sin\n",
    "def newton(fn,dfn,x,tol,maxiter):\n",
    "    for i in range(maxiter):\n",
    "        xnew = x - fn(x)/dfn(x)\n",
    "        if abs(xnew-x)<tol:                          \n",
    "            break\n",
    "        x = xnew\n",
    "    return xnew, i\n",
    "\n",
    "y = lambda x: x**3-5*x-9\n",
    "dy = lambda x : 3*x**2-5\n",
    "\n",
    "x, n = newton(y, dy, 5, 0.0001, 100)\n",
    "print('the root is %.3f at %d iterations.'%(x,n))"
   ]
  },
  {
   "cell_type": "code",
   "execution_count": 3,
   "id": "cab3bd8c",
   "metadata": {},
   "outputs": [
    {
     "name": "stdout",
     "output_type": "stream",
     "text": [
      "enter x1: 0\n",
      "enter x2: 1\n",
      "No roots exists within the given interval\n"
     ]
    },
    {
     "ename": "UnboundLocalError",
     "evalue": "local variable 'xh' referenced before assignment",
     "output_type": "error",
     "traceback": [
      "\u001b[1;31m---------------------------------------------------------------------------\u001b[0m",
      "\u001b[1;31mUnboundLocalError\u001b[0m                         Traceback (most recent call last)",
      "\u001b[1;32mC:\\Users\\PANASO~1\\AppData\\Local\\Temp/ipykernel_14900/3831748213.py\u001b[0m in \u001b[0;36m<module>\u001b[1;34m\u001b[0m\n\u001b[0;32m     21\u001b[0m \u001b[0mx2\u001b[0m \u001b[1;33m=\u001b[0m \u001b[0mfloat\u001b[0m\u001b[1;33m(\u001b[0m\u001b[0minput\u001b[0m\u001b[1;33m(\u001b[0m\u001b[1;34m'enter x2: '\u001b[0m\u001b[1;33m)\u001b[0m\u001b[1;33m)\u001b[0m\u001b[1;33m\u001b[0m\u001b[1;33m\u001b[0m\u001b[0m\n\u001b[0;32m     22\u001b[0m \u001b[1;33m\u001b[0m\u001b[0m\n\u001b[1;32m---> 23\u001b[1;33m \u001b[0mr\u001b[0m\u001b[1;33m,\u001b[0m \u001b[0mn\u001b[0m \u001b[1;33m=\u001b[0m \u001b[0mreg_falsi\u001b[0m\u001b[1;33m(\u001b[0m\u001b[0my\u001b[0m\u001b[1;33m,\u001b[0m\u001b[0mx1\u001b[0m\u001b[1;33m,\u001b[0m\u001b[0mx2\u001b[0m\u001b[1;33m)\u001b[0m\u001b[1;33m\u001b[0m\u001b[1;33m\u001b[0m\u001b[0m\n\u001b[0m\u001b[0;32m     24\u001b[0m \u001b[0mprint\u001b[0m\u001b[1;33m(\u001b[0m\u001b[1;34m'The root = %f at %d false position'\u001b[0m\u001b[1;33m%\u001b[0m\u001b[1;33m(\u001b[0m\u001b[0mr\u001b[0m\u001b[1;33m,\u001b[0m\u001b[0mn\u001b[0m\u001b[1;33m)\u001b[0m\u001b[1;33m)\u001b[0m\u001b[1;33m\u001b[0m\u001b[1;33m\u001b[0m\u001b[0m\n",
      "\u001b[1;32mC:\\Users\\PANASO~1\\AppData\\Local\\Temp/ipykernel_14900/3831748213.py\u001b[0m in \u001b[0;36mreg_falsi\u001b[1;34m(f, x1, x2, tol, maxfpos)\u001b[0m\n\u001b[0;32m     14\u001b[0m         \u001b[0mprint\u001b[0m\u001b[1;33m(\u001b[0m\u001b[1;34m'No roots exists within the given interval'\u001b[0m\u001b[1;33m)\u001b[0m\u001b[1;33m\u001b[0m\u001b[1;33m\u001b[0m\u001b[0m\n\u001b[0;32m     15\u001b[0m \u001b[1;33m\u001b[0m\u001b[0m\n\u001b[1;32m---> 16\u001b[1;33m     \u001b[1;32mreturn\u001b[0m \u001b[0mxh\u001b[0m\u001b[1;33m,\u001b[0m \u001b[0mfpos\u001b[0m\u001b[1;33m\u001b[0m\u001b[1;33m\u001b[0m\u001b[0m\n\u001b[0m\u001b[0;32m     17\u001b[0m \u001b[1;33m\u001b[0m\u001b[0m\n\u001b[0;32m     18\u001b[0m \u001b[0my\u001b[0m \u001b[1;33m=\u001b[0m \u001b[1;32mlambda\u001b[0m \u001b[0mx\u001b[0m\u001b[1;33m:\u001b[0m \u001b[0mx\u001b[0m\u001b[1;33m**\u001b[0m\u001b[1;36m3\u001b[0m\u001b[1;33m-\u001b[0m\u001b[1;36m5\u001b[0m\u001b[1;33m*\u001b[0m\u001b[0mx\u001b[0m\u001b[1;33m-\u001b[0m\u001b[1;36m9\u001b[0m\u001b[1;33m\u001b[0m\u001b[1;33m\u001b[0m\u001b[0m\n",
      "\u001b[1;31mUnboundLocalError\u001b[0m: local variable 'xh' referenced before assignment"
     ]
    }
   ],
   "source": [
    "from math import sin\n",
    "def reg_falsi(f,x1,x2,tol=1.0e-6,maxfpos=100):\n",
    "    \n",
    "    if f(x1) * f(x2)<0:\n",
    "        for fpos in range(1,maxfpos+1):\n",
    "            xh = x2 - (x2-x1)/(f(x2)-f(x1)) * f(x2)\n",
    "            if abs(f(xh)) < tol:\n",
    "                break\n",
    "            elif f(x1) * f(xh) < 0:\n",
    "                x2 = xh\n",
    "            else:\n",
    "                x1 = xh\n",
    "    else:\n",
    "        print('No roots exists within the given interval')\n",
    "        \n",
    "    return xh, fpos\n",
    "\n",
    "y = lambda x: x**3-5*x-9\n",
    "\n",
    "x1 = float(input('enter x1: '))\n",
    "x2 = float(input('enter x2: '))\n",
    "\n",
    "r, n = reg_falsi(y,x1,x2)\n",
    "print('The root = %f at %d false position'%(r,n))"
   ]
  },
  {
   "cell_type": "code",
   "execution_count": 4,
   "id": "d075b17a",
   "metadata": {},
   "outputs": [
    {
     "name": "stdout",
     "output_type": "stream",
     "text": [
      "enter x1: -2\n",
      "enter x2: 2\n",
      "Root = 2.855197 at 8 iterations\n"
     ]
    }
   ],
   "source": [
    "from math import sin\n",
    "def secant(fn,x1,x2,tol,maxiter):\n",
    "    for i in range(maxiter):\n",
    "        xnew  = x2 - (x2-x1)/(fn(x2)-fn(x1))*fn(x2)\n",
    "        if abs(xnew-x2) < tol:\n",
    "            break\n",
    "        else:\n",
    "            x1 = x2\n",
    "            x2 = xnew\n",
    "    else:\n",
    "        print('warning: Maximum number of iterations is reached')\n",
    "    return xnew, i\n",
    "\n",
    "f = lambda x: x**3-5*x-9\n",
    "\n",
    "x1 = float(input('enter x1: '))\n",
    "x2 = float(input('enter x2: '))\n",
    "\n",
    "r, n = secant(f,x1,x2,1.0e-6,100)\n",
    "\n",
    "print('Root = %f at %d iterations'%(r,n))"
   ]
  },
  {
   "cell_type": "code",
   "execution_count": 5,
   "id": "d4d0d2e8",
   "metadata": {},
   "outputs": [
    {
     "name": "stdout",
     "output_type": "stream",
     "text": [
      "first guess: 2\n",
      "second guess: 3\n",
      "tolerance: 0.10\n",
      "given guess values do not bracket the root\n"
     ]
    }
   ],
   "source": [
    "from math import sin\n",
    "def bisection(x0,x1,e): \n",
    "    step = 1\n",
    "    condition = True\n",
    "    while condition:\n",
    "        x2 = (x0+x1)/2\n",
    "        print('iteration %d, x2 = %0.6f and f(x2)= %0.6f' %(step,x2,f(x2)))\n",
    "        \n",
    "        if f(x0) * f(x2) < 0:\n",
    "            x1 = x2\n",
    "        else:\n",
    "            x0 = x2\n",
    "        step = step +1\n",
    "        condition = abs(f(x2)) > e\n",
    "    print('root is :%0.8f '%x2)\n",
    "#    return x2\n",
    "\n",
    "def f(x):\n",
    "    return 2*x**3-9.5*x+7.5\n",
    "\n",
    "x0 = float(input('first guess: '))\n",
    "x1 = float(input('second guess: '))\n",
    "e  = float(input('tolerance: '))\n",
    "\n",
    "if f(x0) * f(x1) > 0.0:\n",
    "    print('given guess values do not bracket the root')\n",
    "else:\n",
    "    root = bisection(x0,x1,e)"
   ]
  },
  {
   "cell_type": "code",
   "execution_count": 6,
   "id": "d351f689",
   "metadata": {},
   "outputs": [
    {
     "name": "stdout",
     "output_type": "stream",
     "text": [
      "the root is 1.500 at 7 iterations.\n"
     ]
    }
   ],
   "source": [
    "from math import sin\n",
    "def newton(fn,dfn,x,tol,maxiter):\n",
    "    for i in range(maxiter):\n",
    "        xnew = x - fn(x)/dfn(x)\n",
    "        if abs(xnew-x)<tol:                          \n",
    "            break\n",
    "        x = xnew\n",
    "    return xnew, i\n",
    "\n",
    "y = lambda x: 2*x**3-9.5*x+7.5\n",
    "dy = lambda x : 6*x**2-9.5\n",
    "\n",
    "x, n = newton(y, dy, 5, 0.0001, 100)\n",
    "print('the root is %.3f at %d iterations.'%(x,n))"
   ]
  },
  {
   "cell_type": "code",
   "execution_count": 7,
   "id": "628c2e51",
   "metadata": {},
   "outputs": [
    {
     "name": "stdout",
     "output_type": "stream",
     "text": [
      "enter x1: 0\n",
      "enter x2: 1\n",
      "No roots exists within the given interval\n"
     ]
    },
    {
     "ename": "UnboundLocalError",
     "evalue": "local variable 'xh' referenced before assignment",
     "output_type": "error",
     "traceback": [
      "\u001b[1;31m---------------------------------------------------------------------------\u001b[0m",
      "\u001b[1;31mUnboundLocalError\u001b[0m                         Traceback (most recent call last)",
      "\u001b[1;32mC:\\Users\\PANASO~1\\AppData\\Local\\Temp/ipykernel_14900/3277870634.py\u001b[0m in \u001b[0;36m<module>\u001b[1;34m\u001b[0m\n\u001b[0;32m     21\u001b[0m \u001b[0mx2\u001b[0m \u001b[1;33m=\u001b[0m \u001b[0mfloat\u001b[0m\u001b[1;33m(\u001b[0m\u001b[0minput\u001b[0m\u001b[1;33m(\u001b[0m\u001b[1;34m'enter x2: '\u001b[0m\u001b[1;33m)\u001b[0m\u001b[1;33m)\u001b[0m\u001b[1;33m\u001b[0m\u001b[1;33m\u001b[0m\u001b[0m\n\u001b[0;32m     22\u001b[0m \u001b[1;33m\u001b[0m\u001b[0m\n\u001b[1;32m---> 23\u001b[1;33m \u001b[0mr\u001b[0m\u001b[1;33m,\u001b[0m \u001b[0mn\u001b[0m \u001b[1;33m=\u001b[0m \u001b[0mreg_falsi\u001b[0m\u001b[1;33m(\u001b[0m\u001b[0my\u001b[0m\u001b[1;33m,\u001b[0m\u001b[0mx1\u001b[0m\u001b[1;33m,\u001b[0m\u001b[0mx2\u001b[0m\u001b[1;33m)\u001b[0m\u001b[1;33m\u001b[0m\u001b[1;33m\u001b[0m\u001b[0m\n\u001b[0m\u001b[0;32m     24\u001b[0m \u001b[0mprint\u001b[0m\u001b[1;33m(\u001b[0m\u001b[1;34m'The root = %f at %d false position'\u001b[0m\u001b[1;33m%\u001b[0m\u001b[1;33m(\u001b[0m\u001b[0mr\u001b[0m\u001b[1;33m,\u001b[0m\u001b[0mn\u001b[0m\u001b[1;33m)\u001b[0m\u001b[1;33m)\u001b[0m\u001b[1;33m\u001b[0m\u001b[1;33m\u001b[0m\u001b[0m\n",
      "\u001b[1;32mC:\\Users\\PANASO~1\\AppData\\Local\\Temp/ipykernel_14900/3277870634.py\u001b[0m in \u001b[0;36mreg_falsi\u001b[1;34m(f, x1, x2, tol, maxfpos)\u001b[0m\n\u001b[0;32m     14\u001b[0m         \u001b[0mprint\u001b[0m\u001b[1;33m(\u001b[0m\u001b[1;34m'No roots exists within the given interval'\u001b[0m\u001b[1;33m)\u001b[0m\u001b[1;33m\u001b[0m\u001b[1;33m\u001b[0m\u001b[0m\n\u001b[0;32m     15\u001b[0m \u001b[1;33m\u001b[0m\u001b[0m\n\u001b[1;32m---> 16\u001b[1;33m     \u001b[1;32mreturn\u001b[0m \u001b[0mxh\u001b[0m\u001b[1;33m,\u001b[0m \u001b[0mfpos\u001b[0m\u001b[1;33m\u001b[0m\u001b[1;33m\u001b[0m\u001b[0m\n\u001b[0m\u001b[0;32m     17\u001b[0m \u001b[1;33m\u001b[0m\u001b[0m\n\u001b[0;32m     18\u001b[0m \u001b[0my\u001b[0m \u001b[1;33m=\u001b[0m \u001b[1;32mlambda\u001b[0m \u001b[0mx\u001b[0m\u001b[1;33m:\u001b[0m \u001b[1;36m2\u001b[0m\u001b[1;33m*\u001b[0m\u001b[0mx\u001b[0m\u001b[1;33m**\u001b[0m\u001b[1;36m3\u001b[0m\u001b[1;33m-\u001b[0m\u001b[1;36m9.5\u001b[0m\u001b[1;33m*\u001b[0m\u001b[0mx\u001b[0m\u001b[1;33m+\u001b[0m\u001b[1;36m7.5\u001b[0m\u001b[1;33m\u001b[0m\u001b[1;33m\u001b[0m\u001b[0m\n",
      "\u001b[1;31mUnboundLocalError\u001b[0m: local variable 'xh' referenced before assignment"
     ]
    }
   ],
   "source": [
    "from math import sin\n",
    "def reg_falsi(f,x1,x2,tol=1.0e-6,maxfpos=100):\n",
    "    \n",
    "    if f(x1) * f(x2)<0:\n",
    "        for fpos in range(1,maxfpos+1):\n",
    "            xh = x2 - (x2-x1)/(f(x2)-f(x1)) * f(x2)\n",
    "            if abs(f(xh)) < tol:\n",
    "                break\n",
    "            elif f(x1) * f(xh) < 0:\n",
    "                x2 = xh\n",
    "            else:\n",
    "                x1 = xh\n",
    "    else:\n",
    "        print('No roots exists within the given interval')\n",
    "        \n",
    "    return xh, fpos\n",
    "\n",
    "y = lambda x: 2*x**3-9.5*x+7.5\n",
    "\n",
    "x1 = float(input('enter x1: '))\n",
    "x2 = float(input('enter x2: '))\n",
    "\n",
    "r, n = reg_falsi(y,x1,x2)\n",
    "print('The root = %f at %d false position'%(r,n))\n"
   ]
  },
  {
   "cell_type": "code",
   "execution_count": 8,
   "id": "5d4a44bc",
   "metadata": {},
   "outputs": [
    {
     "name": "stdout",
     "output_type": "stream",
     "text": [
      "enter x1: -2\n",
      "enter x2: 2\n",
      "Root = 1.500000 at 9 iterations\n"
     ]
    }
   ],
   "source": [
    "from math import sin\n",
    "def secant(fn,x1,x2,tol,maxiter):\n",
    "    for i in range(maxiter):\n",
    "        xnew  = x2 - (x2-x1)/(fn(x2)-fn(x1))*fn(x2)\n",
    "        if abs(xnew-x2) < tol:\n",
    "            break\n",
    "        else:\n",
    "            x1 = x2\n",
    "            x2 = xnew\n",
    "    else:\n",
    "        print('warning: Maximum number of iterations is reached')\n",
    "    return xnew, i\n",
    "\n",
    "f = lambda x: 2*x**3-9.5*x+7.5\n",
    "\n",
    "x1 = float(input('enter x1: '))\n",
    "x2 = float(input('enter x2: '))\n",
    "\n",
    "r, n = secant(f,x1,x2,1.0e-6,100)\n",
    "\n",
    "print('Root = %f at %d iterations'%(r,n))"
   ]
  },
  {
   "cell_type": "code",
   "execution_count": 9,
   "id": "a4691255",
   "metadata": {},
   "outputs": [
    {
     "name": "stdout",
     "output_type": "stream",
     "text": [
      "first guess: 2\n",
      "second guess: 3\n",
      "tolerance: 0.10\n",
      "given guess values do not bracket the root\n"
     ]
    }
   ],
   "source": [
    "from math import sin\n",
    "def bisection(x0,x1,e): \n",
    "    step = 1\n",
    "    condition = True\n",
    "    while condition:\n",
    "        x2 = (x0+x1)/2\n",
    "        print('iteration %d, x2 = %0.6f and f(x2)= %0.6f' %(step,x2,f(x2)))\n",
    "        \n",
    "        if f(x0) * f(x2) < 0:\n",
    "            x1 = x2\n",
    "        else:\n",
    "            x0 = x2\n",
    "        step = step +1\n",
    "        condition = abs(f(x2)) > e\n",
    "    print('root is :%0.8f '%x2)\n",
    "#    return x2\n",
    "\n",
    "def f(x):\n",
    "    return x**2 - sin(x)**2 - 4*x + 1\n",
    "\n",
    "\n",
    "x0 = float(input('first guess: '))\n",
    "x1 = float(input('second guess: '))\n",
    "e  = float(input('tolerance: '))\n",
    "\n",
    "if f(x0) * f(x1) > 0.0:\n",
    "    print('given guess values do not bracket the root')\n",
    "else:\n",
    "    root = bisection(x0,x1,e)"
   ]
  },
  {
   "cell_type": "code",
   "execution_count": 11,
   "id": "f4dd4443",
   "metadata": {},
   "outputs": [
    {
     "name": "stdout",
     "output_type": "stream",
     "text": [
      "the root is 3.850 at 11 iterations.\n"
     ]
    }
   ],
   "source": [
    "from math import cos\n",
    "def newton(fn,dfn,x,tol,maxiter):\n",
    "    for i in range(maxiter):\n",
    "        xnew = x - fn(x)/dfn(x)\n",
    "        if abs(xnew-x)<tol:                          \n",
    "            break\n",
    "        x = xnew\n",
    "    return xnew, i\n",
    "\n",
    "y = lambda x: x**2 - sin(x)**2 - 4*x + 1\n",
    "dy = lambda x : 2*x - 2*cos(x) - 4\n",
    "\n",
    "x, n = newton(y, dy, 5, 0.0001, 100)\n",
    "print('the root is %.3f at %d iterations.'%(x,n))\n"
   ]
  },
  {
   "cell_type": "code",
   "execution_count": 12,
   "id": "e4efeea6",
   "metadata": {},
   "outputs": [
    {
     "name": "stdout",
     "output_type": "stream",
     "text": [
      "enter x1: 0\n",
      "enter x2: 1\n",
      "The root = 0.250324 at 4 false position\n"
     ]
    }
   ],
   "source": [
    "from math import sin\n",
    "def reg_falsi(f,x1,x2,tol=1.0e-6,maxfpos=100):\n",
    "    \n",
    "    if f(x1) * f(x2)<0:\n",
    "        for fpos in range(1,maxfpos+1):\n",
    "            xh = x2 - (x2-x1)/(f(x2)-f(x1)) * f(x2)\n",
    "            if abs(f(xh)) < tol:\n",
    "                break\n",
    "            elif f(x1) * f(xh) < 0:\n",
    "                x2 = xh\n",
    "            else:\n",
    "                x1 = xh\n",
    "    else:\n",
    "        print('No roots exists within the given interval')\n",
    "        \n",
    "    return xh, fpos\n",
    "\n",
    "y = lambda x: x**2 - sin(x)**2 - 4*x + 1\n",
    "\n",
    "x1 = float(input('enter x1: '))\n",
    "x2 = float(input('enter x2: '))\n",
    "\n",
    "r, n = reg_falsi(y,x1,x2)\n",
    "print('The root = %f at %d false position'%(r,n))\n"
   ]
  },
  {
   "cell_type": "code",
   "execution_count": 13,
   "id": "2f509bba",
   "metadata": {},
   "outputs": [
    {
     "name": "stdout",
     "output_type": "stream",
     "text": [
      "enter x1: -2\n",
      "enter x2: 2\n",
      "Root = 0.250324 at 6 iterations\n"
     ]
    }
   ],
   "source": [
    "from math import sin\n",
    "def secant(fn,x1,x2,tol,maxiter):\n",
    "    for i in range(maxiter):\n",
    "        xnew  = x2 - (x2-x1)/(fn(x2)-fn(x1))*fn(x2)\n",
    "        if abs(xnew-x2) < tol:\n",
    "            break\n",
    "        else:\n",
    "            x1 = x2\n",
    "            x2 = xnew\n",
    "    else:\n",
    "        print('warning: Maximum number of iterations is reached')\n",
    "    return xnew, i\n",
    "\n",
    "f = lambda x: x**2 - sin(x)**2 - 4*x + 1 \n",
    "\n",
    "x1 = float(input('enter x1: '))\n",
    "x2 = float(input('enter x2: '))\n",
    "\n",
    "r, n = secant(f,x1,x2,1.0e-6,100)\n",
    "\n",
    "print('Root = %f at %d iterations'%(r,n))"
   ]
  },
  {
   "cell_type": "code",
   "execution_count": 14,
   "id": "e0703ce7",
   "metadata": {},
   "outputs": [
    {
     "name": "stdout",
     "output_type": "stream",
     "text": [
      "first guess: 2\n",
      "second guess: 3\n",
      "tolerance: 0.10\n",
      "given guess values do not bracket the root\n"
     ]
    }
   ],
   "source": [
    "from math import sin\n",
    "def bisection(x0,x1,e): \n",
    "    step = 1\n",
    "    condition = True\n",
    "    while condition:\n",
    "        x2 = (x0+x1)/2\n",
    "        print('iteration %d, x2 = %0.6f and f(x2)= %0.6f' %(step,x2,f(x2)))\n",
    "        \n",
    "        if f(x0) * f(x2) < 0:\n",
    "            x1 = x2\n",
    "        else:\n",
    "            x0 = x2\n",
    "        step = step +1\n",
    "        condition = abs(f(x2)) > e\n",
    "    print('root is :%0.8f '%x2)\n",
    "#    return x2\n",
    "\n",
    "def f(x):\n",
    "    return  2*x**2 - 5*x + 3 \n",
    "\n",
    "\n",
    "x0 = float(input('first guess: '))\n",
    "x1 = float(input('second guess: '))\n",
    "e  = float(input('tolerance: '))\n",
    "\n",
    "if f(x0) * f(x1) > 0.0:\n",
    "    print('given guess values do not bracket the root')\n",
    "else:\n",
    "    root = bisection(x0,x1,e)"
   ]
  },
  {
   "cell_type": "code",
   "execution_count": 15,
   "id": "ffe5aac1",
   "metadata": {},
   "outputs": [
    {
     "name": "stdout",
     "output_type": "stream",
     "text": [
      "the root is 1.500 at 6 iterations.\n"
     ]
    }
   ],
   "source": [
    "from math import sin\n",
    "def newton(fn,dfn,x,tol,maxiter):\n",
    "    for i in range(maxiter):\n",
    "        xnew = x - fn(x)/dfn(x)\n",
    "        if abs(xnew-x)<tol:                          \n",
    "            break\n",
    "        x = xnew\n",
    "    return xnew, i\n",
    "\n",
    "y = lambda x: 2*x**2 - 5*x + 3 \n",
    "dy = lambda x : 4*x - 5\n",
    "\n",
    "x, n = newton(y, dy, 5, 0.0001, 100)\n",
    "print('the root is %.3f at %d iterations.'%(x,n))"
   ]
  },
  {
   "cell_type": "code",
   "execution_count": 16,
   "id": "c01a166a",
   "metadata": {},
   "outputs": [
    {
     "name": "stdout",
     "output_type": "stream",
     "text": [
      "enter x1: 0\n",
      "enter x2: 1\n",
      "No roots exists within the given interval\n"
     ]
    },
    {
     "ename": "UnboundLocalError",
     "evalue": "local variable 'xh' referenced before assignment",
     "output_type": "error",
     "traceback": [
      "\u001b[1;31m---------------------------------------------------------------------------\u001b[0m",
      "\u001b[1;31mUnboundLocalError\u001b[0m                         Traceback (most recent call last)",
      "\u001b[1;32mC:\\Users\\PANASO~1\\AppData\\Local\\Temp/ipykernel_14900/1923961930.py\u001b[0m in \u001b[0;36m<module>\u001b[1;34m\u001b[0m\n\u001b[0;32m     21\u001b[0m \u001b[0mx2\u001b[0m \u001b[1;33m=\u001b[0m \u001b[0mfloat\u001b[0m\u001b[1;33m(\u001b[0m\u001b[0minput\u001b[0m\u001b[1;33m(\u001b[0m\u001b[1;34m'enter x2: '\u001b[0m\u001b[1;33m)\u001b[0m\u001b[1;33m)\u001b[0m\u001b[1;33m\u001b[0m\u001b[1;33m\u001b[0m\u001b[0m\n\u001b[0;32m     22\u001b[0m \u001b[1;33m\u001b[0m\u001b[0m\n\u001b[1;32m---> 23\u001b[1;33m \u001b[0mr\u001b[0m\u001b[1;33m,\u001b[0m \u001b[0mn\u001b[0m \u001b[1;33m=\u001b[0m \u001b[0mreg_falsi\u001b[0m\u001b[1;33m(\u001b[0m\u001b[0my\u001b[0m\u001b[1;33m,\u001b[0m\u001b[0mx1\u001b[0m\u001b[1;33m,\u001b[0m\u001b[0mx2\u001b[0m\u001b[1;33m)\u001b[0m\u001b[1;33m\u001b[0m\u001b[1;33m\u001b[0m\u001b[0m\n\u001b[0m\u001b[0;32m     24\u001b[0m \u001b[0mprint\u001b[0m\u001b[1;33m(\u001b[0m\u001b[1;34m'The root = %f at %d false position'\u001b[0m\u001b[1;33m%\u001b[0m\u001b[1;33m(\u001b[0m\u001b[0mr\u001b[0m\u001b[1;33m,\u001b[0m\u001b[0mn\u001b[0m\u001b[1;33m)\u001b[0m\u001b[1;33m)\u001b[0m\u001b[1;33m\u001b[0m\u001b[1;33m\u001b[0m\u001b[0m\n",
      "\u001b[1;32mC:\\Users\\PANASO~1\\AppData\\Local\\Temp/ipykernel_14900/1923961930.py\u001b[0m in \u001b[0;36mreg_falsi\u001b[1;34m(f, x1, x2, tol, maxfpos)\u001b[0m\n\u001b[0;32m     14\u001b[0m         \u001b[0mprint\u001b[0m\u001b[1;33m(\u001b[0m\u001b[1;34m'No roots exists within the given interval'\u001b[0m\u001b[1;33m)\u001b[0m\u001b[1;33m\u001b[0m\u001b[1;33m\u001b[0m\u001b[0m\n\u001b[0;32m     15\u001b[0m \u001b[1;33m\u001b[0m\u001b[0m\n\u001b[1;32m---> 16\u001b[1;33m     \u001b[1;32mreturn\u001b[0m \u001b[0mxh\u001b[0m\u001b[1;33m,\u001b[0m \u001b[0mfpos\u001b[0m\u001b[1;33m\u001b[0m\u001b[1;33m\u001b[0m\u001b[0m\n\u001b[0m\u001b[0;32m     17\u001b[0m \u001b[1;33m\u001b[0m\u001b[0m\n\u001b[0;32m     18\u001b[0m \u001b[0my\u001b[0m \u001b[1;33m=\u001b[0m \u001b[1;32mlambda\u001b[0m \u001b[0mx\u001b[0m\u001b[1;33m:\u001b[0m \u001b[1;36m2\u001b[0m\u001b[1;33m*\u001b[0m\u001b[0mx\u001b[0m\u001b[1;33m**\u001b[0m\u001b[1;36m2\u001b[0m \u001b[1;33m-\u001b[0m \u001b[1;36m5\u001b[0m\u001b[1;33m*\u001b[0m\u001b[0mx\u001b[0m \u001b[1;33m+\u001b[0m \u001b[1;36m3\u001b[0m\u001b[1;33m\u001b[0m\u001b[1;33m\u001b[0m\u001b[0m\n",
      "\u001b[1;31mUnboundLocalError\u001b[0m: local variable 'xh' referenced before assignment"
     ]
    }
   ],
   "source": [
    "from math import sin\n",
    "def reg_falsi(f,x1,x2,tol=1.0e-6,maxfpos=100):\n",
    "    \n",
    "    if f(x1) * f(x2)<0:\n",
    "        for fpos in range(1,maxfpos+1):\n",
    "            xh = x2 - (x2-x1)/(f(x2)-f(x1)) * f(x2)\n",
    "            if abs(f(xh)) < tol:\n",
    "                break\n",
    "            elif f(x1) * f(xh) < 0:\n",
    "                x2 = xh\n",
    "            else:\n",
    "                x1 = xh\n",
    "    else:\n",
    "        print('No roots exists within the given interval')\n",
    "        \n",
    "    return xh, fpos\n",
    "\n",
    "y = lambda x: 2*x**2 - 5*x + 3 \n",
    "\n",
    "x1 = float(input('enter x1: '))\n",
    "x2 = float(input('enter x2: '))\n",
    "\n",
    "r, n = reg_falsi(y,x1,x2)\n",
    "print('The root = %f at %d false position'%(r,n))"
   ]
  },
  {
   "cell_type": "code",
   "execution_count": 17,
   "id": "d73bfa32",
   "metadata": {},
   "outputs": [
    {
     "name": "stdout",
     "output_type": "stream",
     "text": [
      "enter x1: -2\n",
      "enter x2: 2\n",
      "Root = 1.500000 at 8 iterations\n"
     ]
    }
   ],
   "source": [
    "from math import sin\n",
    "def secant(fn,x1,x2,tol,maxiter):\n",
    "    for i in range(maxiter):\n",
    "        xnew  = x2 - (x2-x1)/(fn(x2)-fn(x1))*fn(x2)\n",
    "        if abs(xnew-x2) < tol:\n",
    "            break\n",
    "        else:\n",
    "            x1 = x2\n",
    "            x2 = xnew\n",
    "    else:\n",
    "        print('warning: Maximum number of iterations is reached')\n",
    "    return xnew, i\n",
    "\n",
    "f = lambda x: 2*x**2 - 5*x + 3 \n",
    "\n",
    "x1 = float(input('enter x1: '))\n",
    "x2 = float(input('enter x2: '))\n",
    "\n",
    "r, n = secant(f,x1,x2,1.0e-6,100)\n",
    "\n",
    "print('Root = %f at %d iterations'%(r,n))"
   ]
  },
  {
   "cell_type": "code",
   "execution_count": null,
   "id": "2bb96cd7",
   "metadata": {},
   "outputs": [],
   "source": []
  }
 ],
 "metadata": {
  "kernelspec": {
   "display_name": "Python 3 (ipykernel)",
   "language": "python",
   "name": "python3"
  },
  "language_info": {
   "codemirror_mode": {
    "name": "ipython",
    "version": 3
   },
   "file_extension": ".py",
   "mimetype": "text/x-python",
   "name": "python",
   "nbconvert_exporter": "python",
   "pygments_lexer": "ipython3",
   "version": "3.9.7"
  }
 },
 "nbformat": 4,
 "nbformat_minor": 5
}
